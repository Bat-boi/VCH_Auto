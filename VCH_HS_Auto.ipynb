{
 "cells": [
  {
   "cell_type": "code",
   "execution_count": null,
   "id": "4cfd182d",
   "metadata": {},
   "outputs": [],
   "source": [
    "import pandas as pd\n",
    "hs = pd.read_csv('') # ENTER CSV FILE NAME HERE. IT SHOULD INCLUDE THE \".CSV\" AT THE END OF THE NAME\n",
    "hs['Full Name (First Last)'] = hs['Full Name (First Last)'].str.upper()\n",
    "hs = hs.drop_duplicates(subset='Full Name (First Last)', keep=\"last\")\n",
    "hs"
   ]
  },
  {
   "cell_type": "code",
   "execution_count": null,
   "id": "d96a8e75",
   "metadata": {},
   "outputs": [],
   "source": [
    "attended = [] # LIST NAMES WHO ALREADY ATTENDED. IT SHOULD LOOK LIKE THIS: ['KEVIN NHIEU', 'KATELYNN PHAM']\n",
    "lowprio = pd.DataFrame(columns=hs.columns)"
   ]
  },
  {
   "cell_type": "code",
   "execution_count": null,
   "id": "67dae84b",
   "metadata": {},
   "outputs": [],
   "source": [
    "agm_invites = pd.DataFrame(columns=hs.columns)\n",
    "\n",
    "def select_volunteers_agm_fluent(row):\n",
    "    global hs, agm_invites\n",
    "    \n",
    "    date = row['What Health Site would you be available for?']\n",
    "    vietnamese_proficiency = row['Do you speak Vietnamese?']\n",
    "    \n",
    "    if date in ['Asian Garden Mall', 'Asian Garden Mall, Del Amo Plaza']:\n",
    "        if vietnamese_proficiency in ['Yes, I am fluent']:\n",
    "            if len(agm_invites[agm_invites['Do you speak Vietnamese?'].isin(['Yes, I am fluent', 'Yes, but conversational'])]) < 3: \n",
    "                agm_invites = agm_invites._append(row, ignore_index=True)\n",
    "                hs = hs.drop(index=row.name)\n",
    "            \n",
    "def select_volunteers_agm_conversational(row):\n",
    "    global hs, agm_invites\n",
    "    \n",
    "    date = row['What Health Site would you be available for?']\n",
    "    vietnamese_proficiency = row['Do you speak Vietnamese?']\n",
    "    \n",
    "    if date in ['Asian Garden Mall', 'Asian Garden Mall, Del Amo Plaza']:\n",
    "        if vietnamese_proficiency in ['Yes, but conversational']:\n",
    "            if len(agm_invites[agm_invites['Do you speak Vietnamese?'].isin(['Yes, I am fluent', 'Yes, but conversational'])]) < 3: \n",
    "                agm_invites = agm_invites._append(row, ignore_index=True)\n",
    "                hs = hs.drop(index=row.name)\n",
    "                \n",
    "def select_volunteers_agm_hypertension(row):\n",
    "    global hs, agm_invites\n",
    "    \n",
    "    date = row['What Health Site would you be available for?']\n",
    "    hypertension_trained = row['Are you Hypertension trained?']\n",
    "    \n",
    "    if date in ['Asian Garden Mall', 'Asian Garden Mall, Del Amo Plaza']:\n",
    "        if hypertension_trained in ['Yes']:\n",
    "            if len(agm_invites[agm_invites['Are you Hypertension trained?'].isin(['Yes'])]) < 3:\n",
    "                agm_invites = agm_invites._append(row, ignore_index=True)\n",
    "                hs = hs.drop(index=row.name)  \n",
    "\n",
    "def select_random_agm_ucla(row):\n",
    "    global hs, agm_invites\n",
    "    \n",
    "    date = row['What Health Site would you be available for?']\n",
    "    location = row['Do you need a ride from UCLA?']\n",
    "    \n",
    "    if date in ['Asian Garden Mall', 'Asian Garden Mall, Del Amo Plaza']:\n",
    "        if location in ['Yes']:\n",
    "            if len(agm_invites[agm_invites['Do you need a ride from UCLA?'].isin(['Yes'])]) < 9:\n",
    "                agm_invites = agm_invites._append(row, ignore_index=True)\n",
    "                hs = hs.drop(index=row.name)\n",
    "    \n",
    "def select_random_agm_home(row):\n",
    "    global hs, agm_invites\n",
    "    \n",
    "    date = row['What Health Site would you be available for?']\n",
    "    location = row['Do you need a ride from UCLA?']\n",
    "            \n",
    "    if date in ['Asian Garden Mall', 'Asian Garden Mall, Del Amo Plaza']:\n",
    "        if location in ['No, I can provide my own ride.']:\n",
    "            if len(agm_invites[agm_invites['Do you need a ride from UCLA?'].isin(['No, I can provide my own ride.'])]) < 6:\n",
    "                agm_invites = agm_invites._append(row, ignore_index=True)\n",
    "                hs = hs.drop(index=row.name)"
   ]
  },
  {
   "cell_type": "code",
   "execution_count": null,
   "id": "c05dfa64",
   "metadata": {},
   "outputs": [],
   "source": [
    "dap_invites = pd.DataFrame(columns=hs.columns)\n",
    "\n",
    "def select_volunteers_dap_fluent(row):\n",
    "    global hs, dap_invites\n",
    "    \n",
    "    date = row['What Health Site would you be available for?']\n",
    "    spanish_proficiency = row['Do you speak Spanish?']\n",
    "    \n",
    "    # check fluent\n",
    "    if date in ['Del Amo Plaza', 'Asian Garden Mall, Del Amo Plaza']:\n",
    "        if spanish_proficiency in ['Yes, I am fluent']:\n",
    "            if len(dap_invites[dap_invites['Do you speak Spanish?'].isin(['Yes, I am fluent', 'Yes, but conversational'])]) < 3: \n",
    "                dap_invites = dap_invites._append(row, ignore_index=True)\n",
    "                hs = hs.drop(index=row.name)\n",
    "    \n",
    "def select_volunteers_dap_conversational(row):\n",
    "    global hs, dap_invites\n",
    "    \n",
    "    date = row['What Health Site would you be available for?']\n",
    "    spanish_proficiency = row['Do you speak Spanish?']\n",
    "\n",
    "    if date in ['Del Amo Plaza', 'Asian Garden Mall, Del Amo Plaza']:\n",
    "        if spanish_proficiency in ['Yes, but conversational']:\n",
    "            if len(dap_invites[dap_invites['Do you speak Spanish?'].isin(['Yes, I am fluent', 'Yes, but conversational'])]) < 3: \n",
    "                dap_invites = dap_invites._append(row, ignore_index=True)\n",
    "                hs = hs.drop(index=row.name)\n",
    "                \n",
    "def select_volunteers_dap_hypertension(row):\n",
    "    global hs, dap_invites\n",
    "    \n",
    "    date = row['What Health Site would you be available for?']\n",
    "    hypertension_trained = row['Are you Hypertension trained?']\n",
    "    \n",
    "    if date in ['Del Amo Plaza', 'Asian Garden Mall, Del Amo Plaza']:\n",
    "        if hypertension_trained in ['Yes']:\n",
    "            if len(dap_invites[dap_invites['Are you Hypertension trained?'].isin(['Yes'])]) < 3:\n",
    "                dap_invites = dap_invites._append(row, ignore_index=True)\n",
    "                hs = hs.drop(index=row.name)  \n",
    "            \n",
    "def select_random_dap_ucla(row):\n",
    "    global hs, dap_invites\n",
    "    \n",
    "    date = row['What Health Site would you be available for?']\n",
    "    location = row['Do you need a ride from UCLA?']\n",
    "    \n",
    "    if date in ['Del Amo Plaza', 'Asian Garden Mall, Del Amo Plaza']:\n",
    "        if location in ['Yes']:\n",
    "            if len(dap_invites[dap_invites['Do you need a ride from UCLA?'].isin(['Yes'])]) < 9:\n",
    "                dap_invites = dap_invites._append(row, ignore_index=True)\n",
    "                hs = hs.drop(index=row.name)\n",
    "                \n",
    "def select_random_dap_home(row):\n",
    "    global hs, dap_invites\n",
    "    \n",
    "    date = row['What Health Site would you be available for?']\n",
    "    location = row['Do you need a ride from UCLA?']        \n",
    "    \n",
    "\n",
    "    if date in ['Del Amo Plaza', 'Asian Garden Mall, Del Amo Plaza']:\n",
    "        if location in ['No, I can provide my own ride.']:\n",
    "            if len(dap_invites[dap_invites['Do you need a ride from UCLA?'].isin(['No, I can provide my own ride.'])]) < 6:\n",
    "                dap_invites = dap_invites._append(row, ignore_index=True)\n",
    "                hs = hs.drop(index=row.name)"
   ]
  },
  {
   "cell_type": "code",
   "execution_count": null,
   "id": "db3fafcb",
   "metadata": {},
   "outputs": [],
   "source": [
    "for index, row in hs.iterrows():\n",
    "    if row['Full Name (First Last)'] in attended:\n",
    "        lowprio = lowprio._append(row, ignore_index=True)\n",
    "        hs = hs.drop(index=row.name)"
   ]
  },
  {
   "cell_type": "code",
   "execution_count": null,
   "id": "366b5e66",
   "metadata": {},
   "outputs": [],
   "source": [
    "# DEL AMO PLAZA\n",
    "\n",
    "for index, row in hs.iterrows():\n",
    "    select_volunteers_dap_fluent(row)\n",
    "    \n",
    "if len(dap_invites[dap_invites['Do you speak Spanish?'].isin(['Yes, I am fluent', 'Yes, but conversational'])]) < 3:\n",
    "    for index, row in hs.iterrows():\n",
    "        select_volunteers_dap_conversational(row)\n",
    "\n",
    "if len(dap_invites[dap_invites['Are you Hypertension trained?'].isin(['Yes'])]) < 3:\n",
    "    for index, row in hs.iterrows():\n",
    "        select_volunteers_dap_hypertension(row)\n",
    "    \n",
    "for index, row in hs.iterrows():\n",
    "    select_random_dap_ucla(row)\n",
    "    \n",
    "for index, row in hs.iterrows():\n",
    "    select_random_dap_home(row)"
   ]
  },
  {
   "cell_type": "code",
   "execution_count": null,
   "id": "04dbe1a8",
   "metadata": {},
   "outputs": [],
   "source": [
    "dap_invites\n",
    "dap_invites = dap_invites.sort_values('Do you need a ride from UCLA?')\n",
    "dap_invites.loc[len(dap_invites)] = pd.Series(dtype='float64')"
   ]
  },
  {
   "cell_type": "code",
   "execution_count": null,
   "id": "dd2248e3",
   "metadata": {},
   "outputs": [],
   "source": [
    "dap_invites"
   ]
  },
  {
   "cell_type": "code",
   "execution_count": null,
   "id": "b3b8fdd9",
   "metadata": {},
   "outputs": [],
   "source": [
    "# ASIAN GARDEN MALL\n",
    "\n",
    "for index, row in hs.iterrows():\n",
    "    select_volunteers_agm_fluent(row)\n",
    "    \n",
    "if len(agm_invites[agm_invites['Do you speak Vietnamese?'].isin(['Yes, I am fluent', 'Yes, but conversational'])]) < 3:\n",
    "    for index, row in hs.iterrows():\n",
    "        select_volunteers_agm_conversational(row)\n",
    "\n",
    "if len(agm_invites[agm_invites['Are you Hypertension trained?'].isin(['Yes'])]) < 3:\n",
    "    for index, row in hs.iterrows():\n",
    "        select_volunteers_agm_hypertension(row)\n",
    "    \n",
    "for index, row in hs.iterrows():\n",
    "    select_random_agm_ucla(row)\n",
    "\n",
    "for index, row in hs.iterrows():\n",
    "    select_random_agm_home(row)"
   ]
  },
  {
   "cell_type": "code",
   "execution_count": null,
   "id": "5cd3a270",
   "metadata": {},
   "outputs": [],
   "source": [
    "agm_invites\n",
    "agm_invites = agm_invites.sort_values('Do you need a ride from UCLA?')\n",
    "agm_invites.loc[len(agm_invites)] = pd.Series(dtype='float64')"
   ]
  },
  {
   "cell_type": "code",
   "execution_count": null,
   "id": "20cb18a1",
   "metadata": {
    "scrolled": true
   },
   "outputs": [],
   "source": [
    "agm_invites"
   ]
  },
  {
   "cell_type": "code",
   "execution_count": null,
   "id": "5150aa23",
   "metadata": {},
   "outputs": [],
   "source": [
    "hs"
   ]
  },
  {
   "cell_type": "code",
   "execution_count": null,
   "id": "56e58d75",
   "metadata": {},
   "outputs": [],
   "source": [
    "hs = hs.sort_values('What Health Site would you be available for?')\n",
    "hs = pd.concat([agm_invites, dap_invites, hs, lowprio])\n",
    "hs.to_csv('') # NAME THE FILE HERE. IT SHOULD INCLUDE \".CSV\" AT THE END"
   ]
  }
 ],
 "metadata": {
  "kernelspec": {
   "display_name": "Python 3 (ipykernel)",
   "language": "python",
   "name": "python3"
  },
  "language_info": {
   "codemirror_mode": {
    "name": "ipython",
    "version": 3
   },
   "file_extension": ".py",
   "mimetype": "text/x-python",
   "name": "python",
   "nbconvert_exporter": "python",
   "pygments_lexer": "ipython3",
   "version": "3.8.8"
  }
 },
 "nbformat": 4,
 "nbformat_minor": 5
}
